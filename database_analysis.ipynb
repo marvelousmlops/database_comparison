{
 "cells": [
  {
   "cell_type": "code",
   "execution_count": 1,
   "metadata": {},
   "outputs": [
    {
     "name": "stdout",
     "output_type": "stream",
     "text": [
      "Requirement already satisfied: pandas in /Users/beskili/.pyenv/versions/3.9.18/envs/duckdb-env/lib/python3.9/site-packages (2.2.2)\n",
      "Requirement already satisfied: duckdb in /Users/beskili/.pyenv/versions/3.9.18/envs/duckdb-env/lib/python3.9/site-packages (1.0.0)\n",
      "Requirement already satisfied: leveldb in /Users/beskili/.pyenv/versions/3.9.18/envs/duckdb-env/lib/python3.9/site-packages (0.201)\n",
      "Requirement already satisfied: matplotlib in /Users/beskili/.pyenv/versions/3.9.18/envs/duckdb-env/lib/python3.9/site-packages (3.9.1)\n",
      "Requirement already satisfied: seaborn in /Users/beskili/.pyenv/versions/3.9.18/envs/duckdb-env/lib/python3.9/site-packages (0.13.2)\n",
      "Requirement already satisfied: tabulate in /Users/beskili/.pyenv/versions/3.9.18/envs/duckdb-env/lib/python3.9/site-packages (0.9.0)\n",
      "Requirement already satisfied: ipython in /Users/beskili/.pyenv/versions/3.9.18/envs/duckdb-env/lib/python3.9/site-packages (8.18.1)\n",
      "Requirement already satisfied: numpy>=1.22.4 in /Users/beskili/.pyenv/versions/3.9.18/envs/duckdb-env/lib/python3.9/site-packages (from pandas) (1.26.4)\n",
      "Requirement already satisfied: python-dateutil>=2.8.2 in /Users/beskili/.pyenv/versions/3.9.18/envs/duckdb-env/lib/python3.9/site-packages (from pandas) (2.9.0.post0)\n",
      "Requirement already satisfied: pytz>=2020.1 in /Users/beskili/.pyenv/versions/3.9.18/envs/duckdb-env/lib/python3.9/site-packages (from pandas) (2024.1)\n",
      "Requirement already satisfied: tzdata>=2022.7 in /Users/beskili/.pyenv/versions/3.9.18/envs/duckdb-env/lib/python3.9/site-packages (from pandas) (2024.1)\n",
      "Requirement already satisfied: contourpy>=1.0.1 in /Users/beskili/.pyenv/versions/3.9.18/envs/duckdb-env/lib/python3.9/site-packages (from matplotlib) (1.2.1)\n",
      "Requirement already satisfied: cycler>=0.10 in /Users/beskili/.pyenv/versions/3.9.18/envs/duckdb-env/lib/python3.9/site-packages (from matplotlib) (0.12.1)\n",
      "Requirement already satisfied: fonttools>=4.22.0 in /Users/beskili/.pyenv/versions/3.9.18/envs/duckdb-env/lib/python3.9/site-packages (from matplotlib) (4.53.1)\n",
      "Requirement already satisfied: kiwisolver>=1.3.1 in /Users/beskili/.pyenv/versions/3.9.18/envs/duckdb-env/lib/python3.9/site-packages (from matplotlib) (1.4.5)\n",
      "Requirement already satisfied: packaging>=20.0 in /Users/beskili/.pyenv/versions/3.9.18/envs/duckdb-env/lib/python3.9/site-packages (from matplotlib) (24.0)\n",
      "Requirement already satisfied: pillow>=8 in /Users/beskili/.pyenv/versions/3.9.18/envs/duckdb-env/lib/python3.9/site-packages (from matplotlib) (10.4.0)\n",
      "Requirement already satisfied: pyparsing>=2.3.1 in /Users/beskili/.pyenv/versions/3.9.18/envs/duckdb-env/lib/python3.9/site-packages (from matplotlib) (3.1.2)\n",
      "Requirement already satisfied: importlib-resources>=3.2.0 in /Users/beskili/.pyenv/versions/3.9.18/envs/duckdb-env/lib/python3.9/site-packages (from matplotlib) (6.4.0)\n",
      "Requirement already satisfied: decorator in /Users/beskili/.pyenv/versions/3.9.18/envs/duckdb-env/lib/python3.9/site-packages (from ipython) (5.1.1)\n",
      "Requirement already satisfied: jedi>=0.16 in /Users/beskili/.pyenv/versions/3.9.18/envs/duckdb-env/lib/python3.9/site-packages (from ipython) (0.19.1)\n",
      "Requirement already satisfied: matplotlib-inline in /Users/beskili/.pyenv/versions/3.9.18/envs/duckdb-env/lib/python3.9/site-packages (from ipython) (0.1.7)\n",
      "Requirement already satisfied: prompt-toolkit<3.1.0,>=3.0.41 in /Users/beskili/.pyenv/versions/3.9.18/envs/duckdb-env/lib/python3.9/site-packages (from ipython) (3.0.43)\n",
      "Requirement already satisfied: pygments>=2.4.0 in /Users/beskili/.pyenv/versions/3.9.18/envs/duckdb-env/lib/python3.9/site-packages (from ipython) (2.17.2)\n",
      "Requirement already satisfied: stack-data in /Users/beskili/.pyenv/versions/3.9.18/envs/duckdb-env/lib/python3.9/site-packages (from ipython) (0.6.3)\n",
      "Requirement already satisfied: traitlets>=5 in /Users/beskili/.pyenv/versions/3.9.18/envs/duckdb-env/lib/python3.9/site-packages (from ipython) (5.14.3)\n",
      "Requirement already satisfied: typing-extensions in /Users/beskili/.pyenv/versions/3.9.18/envs/duckdb-env/lib/python3.9/site-packages (from ipython) (4.11.0)\n",
      "Requirement already satisfied: exceptiongroup in /Users/beskili/.pyenv/versions/3.9.18/envs/duckdb-env/lib/python3.9/site-packages (from ipython) (1.2.1)\n",
      "Requirement already satisfied: pexpect>4.3 in /Users/beskili/.pyenv/versions/3.9.18/envs/duckdb-env/lib/python3.9/site-packages (from ipython) (4.9.0)\n",
      "Requirement already satisfied: zipp>=3.1.0 in /Users/beskili/.pyenv/versions/3.9.18/envs/duckdb-env/lib/python3.9/site-packages (from importlib-resources>=3.2.0->matplotlib) (3.18.1)\n",
      "Requirement already satisfied: parso<0.9.0,>=0.8.3 in /Users/beskili/.pyenv/versions/3.9.18/envs/duckdb-env/lib/python3.9/site-packages (from jedi>=0.16->ipython) (0.8.4)\n",
      "Requirement already satisfied: ptyprocess>=0.5 in /Users/beskili/.pyenv/versions/3.9.18/envs/duckdb-env/lib/python3.9/site-packages (from pexpect>4.3->ipython) (0.7.0)\n",
      "Requirement already satisfied: wcwidth in /Users/beskili/.pyenv/versions/3.9.18/envs/duckdb-env/lib/python3.9/site-packages (from prompt-toolkit<3.1.0,>=3.0.41->ipython) (0.2.13)\n",
      "Requirement already satisfied: six>=1.5 in /Users/beskili/.pyenv/versions/3.9.18/envs/duckdb-env/lib/python3.9/site-packages (from python-dateutil>=2.8.2->pandas) (1.16.0)\n",
      "Requirement already satisfied: executing>=1.2.0 in /Users/beskili/.pyenv/versions/3.9.18/envs/duckdb-env/lib/python3.9/site-packages (from stack-data->ipython) (2.0.1)\n",
      "Requirement already satisfied: asttokens>=2.1.0 in /Users/beskili/.pyenv/versions/3.9.18/envs/duckdb-env/lib/python3.9/site-packages (from stack-data->ipython) (2.4.1)\n",
      "Requirement already satisfied: pure-eval in /Users/beskili/.pyenv/versions/3.9.18/envs/duckdb-env/lib/python3.9/site-packages (from stack-data->ipython) (0.2.2)\n"
     ]
    }
   ],
   "source": [
    "!pip install pandas duckdb leveldb matplotlib seaborn tabulate ipython"
   ]
  },
  {
   "cell_type": "code",
   "execution_count": 1,
   "metadata": {},
   "outputs": [],
   "source": [
    "import warnings\n",
    "warnings.filterwarnings('ignore')"
   ]
  },
  {
   "cell_type": "markdown",
   "metadata": {},
   "source": [
    "# Database Performance Comparison: DuckDB, SQLite, and LMDB\n",
    "\n",
    "This notebook demonstrates the process of creating a sample dataset, setting up DuckDB, SQLite, and LMDB databases, executing various queries, and comparing their performance with and without indexing.\n"
   ]
  },
  {
   "cell_type": "markdown",
   "metadata": {},
   "source": [
    "## Step 1: Generate Sample Dataset"
   ]
  },
  {
   "cell_type": "code",
   "execution_count": 2,
   "metadata": {},
   "outputs": [
    {
     "data": {
      "text/html": [
       "<div>\n",
       "<style scoped>\n",
       "    .dataframe tbody tr th:only-of-type {\n",
       "        vertical-align: middle;\n",
       "    }\n",
       "\n",
       "    .dataframe tbody tr th {\n",
       "        vertical-align: top;\n",
       "    }\n",
       "\n",
       "    .dataframe thead th {\n",
       "        text-align: right;\n",
       "    }\n",
       "</style>\n",
       "<table border=\"1\" class=\"dataframe\">\n",
       "  <thead>\n",
       "    <tr style=\"text-align: right;\">\n",
       "      <th></th>\n",
       "      <th>TransactionID</th>\n",
       "      <th>CustomerID</th>\n",
       "      <th>TransactionDatetime</th>\n",
       "      <th>ProductID</th>\n",
       "      <th>Quantity</th>\n",
       "      <th>Price</th>\n",
       "      <th>StoreID</th>\n",
       "      <th>Discount</th>\n",
       "    </tr>\n",
       "  </thead>\n",
       "  <tbody>\n",
       "    <tr>\n",
       "      <th>0</th>\n",
       "      <td>0</td>\n",
       "      <td>Customer3</td>\n",
       "      <td>2021-03-29 20:51:58</td>\n",
       "      <td>Product1</td>\n",
       "      <td>8</td>\n",
       "      <td>87.50</td>\n",
       "      <td>Store1</td>\n",
       "      <td>17.62</td>\n",
       "    </tr>\n",
       "    <tr>\n",
       "      <th>1</th>\n",
       "      <td>1</td>\n",
       "      <td>Customer2</td>\n",
       "      <td>2022-09-21 06:58:15</td>\n",
       "      <td>Product3</td>\n",
       "      <td>3</td>\n",
       "      <td>889.70</td>\n",
       "      <td>Store5</td>\n",
       "      <td>45.12</td>\n",
       "    </tr>\n",
       "    <tr>\n",
       "      <th>2</th>\n",
       "      <td>2</td>\n",
       "      <td>Customer2</td>\n",
       "      <td>2021-03-03 03:16:56</td>\n",
       "      <td>Product3</td>\n",
       "      <td>3</td>\n",
       "      <td>912.85</td>\n",
       "      <td>Store3</td>\n",
       "      <td>1.42</td>\n",
       "    </tr>\n",
       "    <tr>\n",
       "      <th>3</th>\n",
       "      <td>3</td>\n",
       "      <td>Customer1</td>\n",
       "      <td>2021-09-01 07:20:19</td>\n",
       "      <td>Product5</td>\n",
       "      <td>10</td>\n",
       "      <td>821.20</td>\n",
       "      <td>Store3</td>\n",
       "      <td>23.02</td>\n",
       "    </tr>\n",
       "    <tr>\n",
       "      <th>4</th>\n",
       "      <td>4</td>\n",
       "      <td>Customer5</td>\n",
       "      <td>2022-12-26 22:56:51</td>\n",
       "      <td>Product3</td>\n",
       "      <td>9</td>\n",
       "      <td>78.81</td>\n",
       "      <td>Store1</td>\n",
       "      <td>40.74</td>\n",
       "    </tr>\n",
       "  </tbody>\n",
       "</table>\n",
       "</div>"
      ],
      "text/plain": [
       "   TransactionID CustomerID TransactionDatetime ProductID  Quantity   Price  \\\n",
       "0              0  Customer3 2021-03-29 20:51:58  Product1         8   87.50   \n",
       "1              1  Customer2 2022-09-21 06:58:15  Product3         3  889.70   \n",
       "2              2  Customer2 2021-03-03 03:16:56  Product3         3  912.85   \n",
       "3              3  Customer1 2021-09-01 07:20:19  Product5        10  821.20   \n",
       "4              4  Customer5 2022-12-26 22:56:51  Product3         9   78.81   \n",
       "\n",
       "  StoreID  Discount  \n",
       "0  Store1     17.62  \n",
       "1  Store5     45.12  \n",
       "2  Store3      1.42  \n",
       "3  Store3     23.02  \n",
       "4  Store1     40.74  "
      ]
     },
     "execution_count": 2,
     "metadata": {},
     "output_type": "execute_result"
    }
   ],
   "source": [
    "\n",
    "import pandas as pd\n",
    "import random\n",
    "from datetime import datetime, timedelta\n",
    "\n",
    "# Function to generate random datetime\n",
    "def random_date(start, end):\n",
    "    return start + timedelta(\n",
    "        seconds=random.randint(0, int((end - start).total_seconds())),\n",
    "    )\n",
    "\n",
    "# Generate a sample dataset\n",
    "data = []\n",
    "start_date = datetime(2020, 1, 1)\n",
    "end_date = datetime(2023, 1, 1)\n",
    "\n",
    "for i in range(1000000):\n",
    "    transaction_datetime = random_date(start_date, end_date)\n",
    "    data.append([\n",
    "        i,  # TransactionID (Primary Key)\n",
    "        random.choice(['Customer1', 'Customer2', 'Customer3', 'Customer4', 'Customer5']),  # CustomerID\n",
    "        transaction_datetime,  # TransactionDatetime\n",
    "        random.choice(['Product1', 'Product2', 'Product3', 'Product4', 'Product5']),  # ProductID\n",
    "        random.randint(1, 10),  # Quantity\n",
    "        round(random.uniform(10, 1000), 2),  # Price\n",
    "        random.choice(['Store1', 'Store2', 'Store3', 'Store4', 'Store5']),  # StoreID\n",
    "        round(random.uniform(1, 50), 2)  # Discount\n",
    "    ])\n",
    "\n",
    "columns = [\n",
    "    'TransactionID', 'CustomerID', 'TransactionDatetime', 'ProductID', 'Quantity', 'Price', 'StoreID', 'Discount'\n",
    "]\n",
    "\n",
    "df = pd.DataFrame(data, columns=columns)\n",
    "\n",
    "# Display the first few rows of the dataframe to understand its structure\n",
    "df.head()\n"
   ]
  },
  {
   "cell_type": "markdown",
   "metadata": {},
   "source": [
    "#### Measure Query Time Function"
   ]
  },
  {
   "cell_type": "code",
   "execution_count": 3,
   "metadata": {},
   "outputs": [],
   "source": [
    "import time\n",
    "\n",
    "# Function to measure query time\n",
    "def measure_query_time(query_func, *args):\n",
    "    start_time = time.time()\n",
    "    result = query_func(*args)\n",
    "    end_time = time.time()\n",
    "    return end_time - start_time, result\n"
   ]
  },
  {
   "cell_type": "markdown",
   "metadata": {},
   "source": [
    "## Step 2: Setup DuckDB"
   ]
  },
  {
   "cell_type": "code",
   "execution_count": 4,
   "metadata": {},
   "outputs": [],
   "source": [
    "import duckdb\n",
    "\n",
    "# Convert necessary columns to string to avoid overflow issues\n",
    "df['TransactionID'] = df['TransactionID'].astype(str)\n",
    "df['CustomerID'] = df['CustomerID'].astype(str)\n",
    "df['ProductID'] = df['ProductID'].astype(str)\n",
    "df['StoreID'] = df['StoreID'].astype(str)\n",
    "\n",
    "# Setup DuckDB\n",
    "duckdb_conn = duckdb.connect(database=':memory:')\n",
    "df.to_sql('transactions', duckdb_conn, index=False)\n",
    "\n",
    "# Function to execute DuckDB query\n",
    "def duckdb_query(query):\n",
    "    return duckdb_conn.execute(query).fetchall()\n"
   ]
  },
  {
   "cell_type": "markdown",
   "metadata": {},
   "source": [
    "## Step3: Setup SQlite"
   ]
  },
  {
   "cell_type": "code",
   "execution_count": 5,
   "metadata": {},
   "outputs": [],
   "source": [
    "import sqlite3\n",
    "\n",
    "# Setup SQLite\n",
    "sqlite_conn = sqlite3.connect(':memory:')\n",
    "df.to_sql('transactions', sqlite_conn, if_exists='replace', index=False)\n",
    "\n",
    "# Function to execute SQLite query\n",
    "def sqlite_query(query):\n",
    "    cursor = sqlite_conn.cursor()\n",
    "    cursor.execute(query)\n",
    "    return cursor.fetchall()\n"
   ]
  },
  {
   "cell_type": "markdown",
   "metadata": {},
   "source": [
    "## Step 4: Setup LevelDB"
   ]
  },
  {
   "cell_type": "code",
   "execution_count": 6,
   "metadata": {},
   "outputs": [],
   "source": [
    "import leveldb\n",
    "\n",
    "# Setup LevelDB\n",
    "db = leveldb.LevelDB('leveldb_test')\n",
    "\n",
    "# Write data to LevelDB\n",
    "batch = leveldb.WriteBatch()\n",
    "for idx, row in df.iterrows():\n",
    "    key = str(row['TransactionID']).encode()\n",
    "    value = row.to_json().encode()\n",
    "    batch.Put(key, value)\n",
    "db.Write(batch, sync=True)\n"
   ]
  },
  {
   "cell_type": "markdown",
   "metadata": {},
   "source": [
    "#### Custom functions to execute LevelDB query with key identifiers\n"
   ]
  },
  {
   "cell_type": "code",
   "execution_count": 7,
   "metadata": {},
   "outputs": [],
   "source": [
    "\n",
    "def leveldb_query_single(id, store_id=None):\n",
    "    results = []\n",
    "    try:\n",
    "        value = db.Get(str(id).encode())\n",
    "        row = pd.read_json(value.decode(), typ='series')\n",
    "        if store_id is None or row['StoreID'] == store_id:\n",
    "            results.append(row)\n",
    "    except KeyError:\n",
    "        pass\n",
    "    return results\n",
    "\n",
    "def leveldb_query_multiple(ids):\n",
    "    results = []\n",
    "    for id in ids:\n",
    "        try:\n",
    "            value = db.Get(str(id).encode())\n",
    "            row = pd.read_json(value.decode(), typ='series')\n",
    "            results.append(row)\n",
    "        except KeyError:\n",
    "            pass\n",
    "    return results\n",
    "\n",
    "# Function to execute aggregation in LevelDB\n",
    "def leveldb_query_aggregation():\n",
    "    results = {}\n",
    "    for key, value in db.RangeIter():\n",
    "        row = pd.read_json(value.decode(), typ='series')\n",
    "        customer_id = row['CustomerID']\n",
    "        total_spent = row['Price'] * row['Quantity']\n",
    "        if customer_id in results:\n",
    "            results[customer_id] += total_spent\n",
    "        else:\n",
    "            results[customer_id] = total_spent\n",
    "    return results\n"
   ]
  },
  {
   "cell_type": "markdown",
   "metadata": {},
   "source": [
    "## Example Queries to Test"
   ]
  },
  {
   "cell_type": "code",
   "execution_count": 8,
   "metadata": {},
   "outputs": [],
   "source": [
    "# Function to generate a query with 30 random TransactionIDs\n",
    "def generate_random_keys_query():\n",
    "    random_transaction_ids = random.sample(range(1, 10001), 30)  # Assuming TransactionID ranges from 1 to 10000\n",
    "    transaction_id_str = ', '.join(f\"'{id}'\" for id in random_transaction_ids)\n",
    "    return f\"SELECT * FROM transactions WHERE TransactionID IN ({transaction_id_str})\"\n",
    "\n",
    "# Example queries to test\n",
    "def get_queries():\n",
    "    return [\n",
    "        \"SELECT * FROM transactions WHERE TransactionID = '1'\",  # Query by ID\n",
    "        \"SELECT * FROM transactions WHERE TransactionID = '1' AND StoreID = 'Store1'\",  # Query by ID and another column\n",
    "        generate_random_keys_query(),  # Query with multiple keys\n",
    "        \"SELECT CustomerID, SUM(Price * Quantity) FROM transactions GROUP BY CustomerID\"  # Aggregation query\n",
    "    ]\n",
    "\n",
    "\n",
    "# LevelDB conditions\n",
    "leveldb_conditions = [\n",
    "    (1, None),\n",
    "    (1, 'Store1'),\n",
    "]\n",
    "\n",
    "# Function to run queries multiple times and return the average time\n",
    "def average_query_time(query_func, query_generator, runs=100):\n",
    "    total_time = 0\n",
    "    for _ in range(runs):\n",
    "        query = query_generator() if callable(query_generator) else query_generator\n",
    "        elapsed_time, _ = measure_query_time(query_func, query)\n",
    "        total_time += elapsed_time\n",
    "    return total_time / runs\n",
    "\n",
    "# Function to run leveldb queries multiple times and return the average time\n",
    "def average_leveldb_time(query_func, args, runs=1):\n",
    "    total_time = 0\n",
    "    for _ in range(runs):\n",
    "        elapsed_time, _ = measure_query_time(query_func, *args)\n",
    "        total_time += elapsed_time\n",
    "    return total_time / runs\n",
    "\n",
    "# Measure query times\n",
    "queries = get_queries()\n",
    "duckdb_times = [average_query_time(duckdb_query, q) for q in queries]\n",
    "sqlite_times = [average_query_time(sqlite_query, q) for q in queries]\n",
    "\n",
    "leveldb_times = [\n",
    "    average_leveldb_time(leveldb_query_single, leveldb_conditions[0]),\n",
    "    average_leveldb_time(leveldb_query_single, leveldb_conditions[1]),\n",
    "    average_leveldb_time(leveldb_query_multiple, [random.sample(range(1, 10001), 30)]),\n",
    "    average_leveldb_time(leveldb_query_aggregation, [])\n",
    "]\n"
   ]
  },
  {
   "cell_type": "markdown",
   "metadata": {},
   "source": [
    "## Add Indexing and Run Queries Again"
   ]
  },
  {
   "cell_type": "code",
   "execution_count": 12,
   "metadata": {},
   "outputs": [],
   "source": [
    "\n",
    "# Add indexing for DuckDB and SQLite and measure again\n",
    "# duckdb_conn.execute(\"CREATE INDEX idx_transaction_id ON transactions (TransactionID)\")\n",
    "# sqlite_conn.execute(\"CREATE INDEX idx_transaction_id ON transactions (TransactionID)\")\n",
    "\n",
    "duckdb_times_indexed = [average_query_time(duckdb_query, q) for q in queries]\n",
    "sqlite_times_indexed = [average_query_time(sqlite_query, q) for q in queries]\n"
   ]
  },
  {
   "cell_type": "markdown",
   "metadata": {},
   "source": [
    "## Print Results"
   ]
  },
  {
   "cell_type": "code",
   "execution_count": 16,
   "metadata": {},
   "outputs": [
    {
     "name": "stdout",
     "output_type": "stream",
     "text": [
      "DuckDB Times (without index): ['0.00136316', '0.00226011', '0.00696233', '0.00561259']\n",
      "SQLite Times (without index): ['0.03519033', '0.03502800', '0.09809309', '0.34471523']\n",
      "LevelDB Times (without index): ['0.00110912', '0.00069404', '0.02440310', '668.97385502']\n",
      "DuckDB Times (with index): ['0.00069448', '0.00026879', '0.00718518', '0.00516721']\n",
      "SQLite Times (with index): ['0.00000274', '0.00000168', '0.00004944', '0.32978075']\n"
     ]
    }
   ],
   "source": [
    "# Function to format times with 8 decimal places\n",
    "def format_times(times):\n",
    "    return [f\"{t:.8f}\" for t in times]\n",
    "\n",
    "# Print results\n",
    "print(\"DuckDB Times (without index):\", format_times(duckdb_times))\n",
    "print(\"SQLite Times (without index):\", format_times(sqlite_times))\n",
    "print(\"LevelDB Times (without index):\", format_times(leveldb_times))\n",
    "print(\"DuckDB Times (with index):\", format_times(duckdb_times_indexed))\n",
    "print(\"SQLite Times (with index):\", format_times(sqlite_times_indexed))"
   ]
  },
  {
   "cell_type": "code",
   "execution_count": 17,
   "metadata": {},
   "outputs": [
    {
     "name": "stdout",
     "output_type": "stream",
     "text": [
      "| Query Type               | DuckDB (without index)   | SQLite (without index)   | LevelDB (without index)   | DuckDB (with index)   | SQLite (with index)   |\n",
      "|:-------------------------|:-------------------------|:-------------------------|:--------------------------|:----------------------|:----------------------|\n",
      "| Query by ID              | 0.001363 seconds         | 0.035190 seconds         | 0.001109 seconds          | 0.000694 seconds      | 0.000003 seconds      |\n",
      "| Query by ID with Column  | 0.002260 seconds         | 0.035028 seconds         | 0.000694 seconds          | 0.000269 seconds      | 0.000002 seconds      |\n",
      "| Query with Multiple Keys | 0.006962 seconds         | 0.098093 seconds         | 0.024403 seconds          | 0.007185 seconds      | 0.000049 seconds      |\n",
      "| Aggregation Query        | 0.005613 seconds         | 0.344715 seconds         | 668.973855 seconds        | 0.005167 seconds      | 0.329781 seconds      |\n"
     ]
    }
   ],
   "source": [
    "import pandas as pd\n",
    "\n",
    "# Format times for the table\n",
    "def format_times(times):\n",
    "    return [f'{time:.6f} seconds' for time in times]\n",
    "\n",
    "# Data for the table\n",
    "data = {\n",
    "    'Query Type': [\n",
    "        'Query by ID',\n",
    "        'Query by ID with Column',\n",
    "        'Query with Multiple Keys',\n",
    "        'Aggregation Query'\n",
    "    ],\n",
    "    'DuckDB (without index)': format_times(duckdb_times),\n",
    "    'SQLite (without index)': format_times(sqlite_times),\n",
    "    'LevelDB (without index)': format_times(leveldb_times),\n",
    "    'DuckDB (with index)': format_times(duckdb_times_indexed),\n",
    "    'SQLite (with index)': format_times(sqlite_times_indexed)\n",
    "}\n",
    "\n",
    "# Create a DataFrame\n",
    "df = pd.DataFrame(data)\n",
    "\n",
    "# Function to convert DataFrame to Markdown table format\n",
    "def dataframe_to_markdown(df):\n",
    "    return df.to_markdown(index=False, tablefmt='pipe')\n",
    "\n",
    "# Convert the DataFrame to Markdown table\n",
    "markdown_table = dataframe_to_markdown(df)\n",
    "\n",
    "# Display the table\n",
    "print(markdown_table)\n"
   ]
  },
  {
   "cell_type": "code",
   "execution_count": null,
   "metadata": {},
   "outputs": [],
   "source": []
  }
 ],
 "metadata": {
  "kernelspec": {
   "display_name": "duckdb-env",
   "language": "python",
   "name": "python3"
  },
  "language_info": {
   "codemirror_mode": {
    "name": "ipython",
    "version": 3
   },
   "file_extension": ".py",
   "mimetype": "text/x-python",
   "name": "python",
   "nbconvert_exporter": "python",
   "pygments_lexer": "ipython3",
   "version": "3.9.18"
  }
 },
 "nbformat": 4,
 "nbformat_minor": 2
}
